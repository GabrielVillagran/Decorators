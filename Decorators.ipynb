{
  "nbformat": 4,
  "nbformat_minor": 0,
  "metadata": {
    "colab": {
      "name": "Decorators.ipynb",
      "provenance": [],
      "collapsed_sections": [],
      "authorship_tag": "ABX9TyOGuo/SCwn0qTe2JL6AJgU8",
      "include_colab_link": true
    },
    "kernelspec": {
      "name": "python3",
      "display_name": "Python 3"
    },
    "language_info": {
      "name": "python"
    }
  },
  "cells": [
    {
      "cell_type": "markdown",
      "metadata": {
        "id": "view-in-github",
        "colab_type": "text"
      },
      "source": [
        "<a href=\"https://colab.research.google.com/github/Villagran29A/Decorators/blob/main/Decorators.ipynb\" target=\"_parent\"><img src=\"https://colab.research.google.com/assets/colab-badge.svg\" alt=\"Open In Colab\"/></a>"
      ]
    },
    {
      "cell_type": "markdown",
      "metadata": {
        "id": "9XXeiQZ8qYIb"
      },
      "source": [
        "                    Decoradores\n",
        "- Agregan funciones extras a una funcion manteniendola presentable sin arruinar el codigo y la logica presentada.\n",
        "- Los decoradores se pueden importar y mantener en un lugar separado del codigo principal.\n",
        "- Cuando llamamos a una funcion decorada, se ejecuta lo que esta decorado, no la funcion principal\n",
        "====================================================\n",
        "- Si queremos que lo que se ejecute primero sea el decorador, el llamado a la funcion debera de estar llamandose en la funcion que agrega las funcionalidades\n",
        "- Si queremos que se ejecute el decorador al final, se debe de hacer el llamado fuera de la funcion decoradora\n",
        "\n",
        "https://www.youtube.com/watch?v=HndNhWeNsZ4"
      ]
    },
    {
      "cell_type": "code",
      "metadata": {
        "id": "X-w4Ozj3sNQg"
      },
      "source": [
        "# Recibe como parametro una funcion, la cual sera la que se va a decorar (agregar\n",
        "# diversas funciones)\n",
        "def funcion_decoradora(funcion):\n",
        "  #funcion con codigo extra\n",
        "  def Nuevas_Funciones():\n",
        "    print(\"ya es de noche, duermete\")\n",
        "    #Se ejecuta antes del decorador\n",
        "    funcion()\n",
        "\n",
        "  #Se ejecuta despues del decorador \n",
        "  #funcion()\n",
        "  return Nuevas_Funciones"
      ],
      "execution_count": null,
      "outputs": []
    },
    {
      "cell_type": "code",
      "metadata": {
        "id": "mzTFv6TgsCNW"
      },
      "source": [
        "@funcion_decoradora\n",
        "def saludo():\n",
        "  print(\"Hola, que tal\")"
      ],
      "execution_count": null,
      "outputs": []
    },
    {
      "cell_type": "code",
      "metadata": {
        "colab": {
          "base_uri": "https://localhost:8080/"
        },
        "id": "-Sp_8_PNsJqH",
        "outputId": "6d2511ec-5780-4c63-e966-0cfc4cb6e3b6"
      },
      "source": [
        "saludo()"
      ],
      "execution_count": null,
      "outputs": [
        {
          "output_type": "stream",
          "text": [
            "ya es de noche, duermete\n",
            "Hola, que tal\n"
          ],
          "name": "stdout"
        }
      ]
    }
  ]
}